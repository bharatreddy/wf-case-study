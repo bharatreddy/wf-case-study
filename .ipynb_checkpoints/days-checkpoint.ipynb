{
 "metadata": {
  "name": "",
  "signature": "sha256:27fe34462d5a0586a137077c7154f1fa5b1c965c7faa08b1f7cb91daf4ccace5"
 },
 "nbformat": 3,
 "nbformat_minor": 0,
 "worksheets": [
  {
   "cells": [
    {
     "cell_type": "code",
     "collapsed": false,
     "input": [
      "# Import libraries\n",
      "import pandas\n",
      "import pandas as pd\n",
      "import matplotlib.pyplot as plt\n",
      "# read the data from the CSV files into Pandas DataFrames\n",
      "# prodSalesDF = pandas.io.parsers.read_csv( 'product_sales_sample.csv' )\n",
      "dayPartsDF = pandas.io.parsers.read_csv( 'dayparts_sample.csv' )\n",
      "# weatherDF = pandas.io.parsers.read_csv( 'weather_sample.csv' )\n",
      "# dmgrphcsDF = pandas.io.parsers.read_csv( 'demographics_sample.csv' )"
     ],
     "language": "python",
     "metadata": {},
     "outputs": [],
     "prompt_number": 1
    },
    {
     "cell_type": "code",
     "collapsed": false,
     "input": [
      "print dayPartsDF.columns"
     ],
     "language": "python",
     "metadata": {},
     "outputs": [
      {
       "output_type": "stream",
       "stream": "stdout",
       "text": [
        "Index([u'REST_KEY', u'Rest Coop', u'Reporting Day', u'Daypart Name', u'Daypart Description', u'Daypart Sales $', u'Daypart Transaction Qty'], dtype='object')\n"
       ]
      }
     ],
     "prompt_number": 8
    },
    {
     "cell_type": "code",
     "collapsed": false,
     "input": [
      "# groupby daypart name to see sales by dayparts\n",
      "dyprtGroup = dayPartsDF.groupby('Daypart Name')\n",
      "# get a sum of sales and transactions by dayparts\n",
      "dyprtSales = dyprtGroup.sum()"
     ],
     "language": "python",
     "metadata": {},
     "outputs": [
      {
       "output_type": "stream",
       "stream": "stdout",
       "text": [
        "              REST_KEY  Daypart Sales $  Daypart Transaction Qty\n",
        "Daypart Name                                                    \n",
        "After 4PM      2056698        317997.30                    51392\n",
        "Afternoon      2056698        133041.03                    24294\n",
        "Breakfast      2056698        227813.28                    49177\n",
        "Dinner         2056698        264209.55                    42473\n",
        "Evening        2056698         53787.75                     8919\n",
        "Late Night     2056698          4227.58                      722\n",
        "Lunch          2056698        292507.54                    50817\n",
        "Morning        2056698        244243.16                    52568\n",
        "Regular Menu   2056698        759975.75                   129894\n",
        "Total Day      2056698        987789.03                   179071\n",
        "\n",
        "[10 rows x 3 columns]\n"
       ]
      }
     ],
     "prompt_number": 17
    },
    {
     "cell_type": "code",
     "collapsed": false,
     "input": [
      "# Plot sales at different times of day\n",
      "# sort according to total units sold promo and regular column\n",
      "dyprtSales.sort( \\\n",
      "               ['Daypart Sales $'],\\\n",
      "               ascending=False, inplace=True )\n",
      "fig = plt.figure(figsize=(17,8))\n",
      "ax1 = fig.add_subplot(111)\n",
      "dyprtSales[['Daypart Sales $']].\\\n",
      "            plot( kind='bar', use_index=True,\\\n",
      "               ax=ax1, alpha=0.75,\\\n",
      "               grid=True, color=['aqua','orange','black'])\n",
      "\n",
      "\n",
      "ax1.set_xlabel( 'Item Name', fontsize=14 )\n",
      "ax1.set_ylabel( 'Number of Units', fontsize=14 )\n",
      "ax1.set_xticklabels(itemsSold['Menu Item'].values, fontsize=14)\n",
      "ax1.set_title( 'Units sold for each menu item', fontsize=16 )\n",
      "ax1.patch.set_facecolor('gray')\n",
      "ax1.patch.set_alpha(0.75)"
     ],
     "language": "python",
     "metadata": {},
     "outputs": []
    }
   ],
   "metadata": {}
  }
 ]
}