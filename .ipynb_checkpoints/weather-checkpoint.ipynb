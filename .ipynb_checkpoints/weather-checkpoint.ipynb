{
 "metadata": {
  "name": "",
  "signature": "sha256:010665cd4b06a41dcdb8fed80aa73773a649714dfc0ec8a340707d915081c041"
 },
 "nbformat": 3,
 "nbformat_minor": 0,
 "worksheets": [
  {
   "cells": [
    {
     "cell_type": "code",
     "collapsed": false,
     "input": [
      "# Import libraries\n",
      "import pandas\n",
      "import matplotlib.pyplot as plt\n",
      "import datetime\n",
      "import numpy\n",
      "import matplotlib.dates as mdates\n",
      "# read the data from the CSV files into Pandas DataFrames\n",
      "# prodSalesDF = pandas.io.parsers.read_csv( 'product_sales_sample.csv' )\n",
      "dayPartsDF = pandas.io.parsers.read_csv( 'dayparts_sample.csv' )\n",
      "weatherDF = pandas.io.parsers.read_csv( 'weather_sample.csv' )\n",
      "dmgrphcsDF = pandas.io.parsers.read_csv( 'demographics_sample.csv' )"
     ],
     "language": "python",
     "metadata": {},
     "outputs": [],
     "prompt_number": 7
    },
    {
     "cell_type": "code",
     "collapsed": false,
     "input": [
      "# # Drop the first column, it just has the description of data\n",
      "# descDmgDF = dmgrphcsDF[0:1]\n",
      "# dmgrphcsDF.drop( dmgrphcsDF.index[[0]], inplace=True )\n",
      "# # reset the index \n",
      "# dmgrphcsDF.reset_index( drop=True, inplace=True )\n",
      "# print dmgrphcsDF.columns\n",
      "print weatherDF.columns"
     ],
     "language": "python",
     "metadata": {},
     "outputs": [
      {
       "output_type": "stream",
       "stream": "stdout",
       "text": [
        "Index([u'xFilter', u'xError', u'FINAL_EXEC_FLAG', u'LEVEL', u'GEO_CODE', u'GEO_NAME', u'Unnamed: 6', u'TY_DATE', u'LY_DATE', u'TY_MODEL', u'TY_NON_WX_MODEL', u'TY_SIG_TEMP_NEG_PCT', u'TY_SIG_TEMP_POS_PCT', u'TY_SIG_RAIN_PCT', u'TY_SIG_SNOW_PCT', u'TY_SIG_SNOW_AND_RAIN_PCT', u'TY_NULL_FORECAST', u'TY_MISSING_TEMP', u'TY_MISSING_PRECIP', u'LY_MODEL', u'LY_NON_WX_MODEL', u'LY_SIG_TEMP_NEG_PCT', u'LY_SIG_TEMP_POS_PCT', u'LY_SIG_RAIN_PCT', u'LY_SIG_SNOW_PCT', u'LY_SIG_SNOW_AND_RAIN_PCT', u'LY_NULL_FORECAST', u'LY_MISSING_TEMP', u'LY_MISSING_PRECIP', u'TY_AVG_MIN_TEMP', u'TY_AVG_MAX_TEMP', u'TY_TOTAL_PRECIP', u'TY_TOTAL_SNOW', u'LY_AVG_MIN_TEMP', u'LY_AVG_MAX_TEMP', u'LY_TOTAL_PRECIP', u'LY_TOTAL_SNOW', u'NRM_AVG_MIN_TEMP', u'NRM_AVG_MAX_TEMP', u'NRM_TOTAL_PRECIP', u'NRM_TOTAL_SNOW', u'tytrn', u'lytrn', u'comp', u'tybase', u'lybase', u'reasoncode', u'monthyr', u'tychg', u'lychg', u'impactty', u'impactly', u'tycompwoweather', u'compduetoweather', u'Datafile', u'_CreateDt', u'_CreateBy', u'datetime_ty', u'datetime_ly'], dtype='object')\n"
       ]
      }
     ],
     "prompt_number": 15
    },
    {
     "cell_type": "code",
     "collapsed": false,
     "input": [
      "# convert the ty_date and ly_date cols to datetime objects\n",
      "# and also get weekday type data as well\n",
      "weatherDF['datetime_ty'] = pandas.to_datetime( weatherDF['TY_DATE'] )\n",
      "weatherDF['datetime_ly'] = pandas.to_datetime( weatherDF['LY_DATE'] )"
     ],
     "language": "python",
     "metadata": {},
     "outputs": [],
     "prompt_number": 14
    },
    {
     "cell_type": "code",
     "collapsed": false,
     "input": [
      "# Plot weather data\n",
      "yearsLocPlot = mdates.YearLocator()   # every year\n",
      "monthsLocPlot = mdates.MonthLocator()  # every month\n",
      "daysLocPlot = mdates.DayLocator()\n",
      "dateLocPlot = mdates.DateLocator()\n",
      "dateTickFmt = mdates.DateFormatter('%d')\n",
      "# Plot 2010 data\n",
      "fig, (ax0, ax1) = plt.subplots(nrows=2, sharex=True, figsize=(11,8))\n",
      "ax0.plot(weatherDF['datetime_ty'].tolist(), \\\n",
      "         weatherDF['TY_AVG_MIN_TEMP'].tolist(),\\\n",
      "         'bo-')\n",
      "ax0.set_ylabel('Avg. Min Temp.', fontsize=14)\n",
      "ax0.set_title('Data for Jan-2011', fontsize=16)\n",
      "\n",
      "ax1.plot(weatherDF['datetime_ty'].tolist(), \\\n",
      "         weatherDF['TY_AVG_MAX_TEMP'].tolist(),\\\n",
      "         'bo-')\n",
      "ax1.set_ylabel('Avg. Max Temp.', fontsize=14)\n",
      "\n",
      "# format the ticks\n",
      "ax0.xaxis.set_major_locator(daysLocPlot)\n",
      "ax0.xaxis.set_major_formatter(dateTickFmt)\n",
      "ax0.xaxis.set_minor_locator(daysLocPlot)\n",
      "\n",
      "ax1.xaxis.set_major_locator(daysLocPlot)\n",
      "ax1.xaxis.set_major_formatter(dateTickFmt)\n",
      "ax1.xaxis.set_minor_locator(daysLocPlot)\n",
      "\n",
      "datemin = weatherDF['datetime_ty'].min().to_datetime()\n",
      "datemax = weatherDF['datetime_ty'].max().to_datetime()\n",
      "ax1.set_xlim(datemin, datemax)\n",
      "\n",
      "fig.savefig('figs/weather-2011.png', bbox_inches='tight', \\\n",
      "                        pad_inches=0)"
     ],
     "language": "python",
     "metadata": {},
     "outputs": []
    }
   ],
   "metadata": {}
  }
 ]
}